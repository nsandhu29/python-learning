{
 "cells": [
  {
   "cell_type": "markdown",
   "metadata": {},
   "source": [
    "### What Are Dunder Methods?\n",
    "\n",
    "In Python, special methods are a set of predefined methods you can use to enrich your classes. They are easy to recognize because they start and end with double underscores, for example \\__init\\__ or \\__str\\__.\n",
    "\n",
    "As it quickly became tiresome to say under-under-method-under-under Pythonistas adopted the term “dunder methods”, a short form of “double under.”\n",
    "\n",
    "These “dunders” or “special methods” in Python are also sometimes called “magic methods.” But using this terminology can make them seem more complicated than they really are—at the end of the day there’s nothing “magical” about them. You should treat these methods like a normal language feature.\n",
    "\n",
    "Dunder methods let you emulate the behavior of built-in types.For example, to get the length of a string you can call len('string'). But an empty class definition doesn’t support this behavior out of the box:"
   ]
  },
  {
   "cell_type": "code",
   "execution_count": null,
   "metadata": {},
   "outputs": [],
   "source": [
    "class NoLenSupport:\n",
    "    pass\n",
    "\n",
    "obj = NoLenSupport()\n",
    "len(obj)"
   ]
  },
  {
   "cell_type": "markdown",
   "metadata": {},
   "source": [
    "TypeError                                 Traceback (most recent call last)\n",
    "\n",
    "\\<ipython-input-1-acc1060f7b33\\> in \\<module\\>\n",
    "-       3 \n",
    "-       4 obj = NoLenSupport()\n",
    "- ----> 5 len(obj)\n",
    "\n",
    "TypeError: object of type 'NoLenSupport' has no len()\n",
    "\n",
    "To fix this, you can add a __len__ dunder method to your class:"
   ]
  },
  {
   "cell_type": "code",
   "execution_count": null,
   "metadata": {},
   "outputs": [],
   "source": [
    "class LenSupport():\n",
    "    def __len__(self):\n",
    "        return 42\n",
    "obj = LenSupport()\n",
    "len(obj)"
   ]
  },
  {
   "cell_type": "markdown",
   "metadata": {},
   "source": [
    "Enrich a simple Python class with various dunder methods to unlock the following language features:\n",
    "\n",
    "*    Initialization of new objects\n",
    "*    Object representation\n",
    "*   Enable iteration\n",
    "*   Operator overloading (comparison)\n",
    "*   Operator overloading (addition)\n",
    "*   Method invocation\n",
    "*   Context manager support (with statement)\n",
    "\n",
    "## Object Initialization:\\__init\\__"
   ]
  },
  {
   "cell_type": "code",
   "execution_count": null,
   "metadata": {},
   "outputs": [],
   "source": [
    "class Account:\n",
    "    \"\"\"A simple account class\"\"\"\n",
    "    \n",
    "    def __init__(self, owner, amount=0):\n",
    "        \"\"\"\n",
    "        This is constructor that lets us create objects from this class\n",
    "        \"\"\"\n",
    "        self.owner = owner\n",
    "        self.amount = amount\n",
    "        self._transactions = []"
   ]
  },
  {
   "cell_type": "markdown",
   "metadata": {},
   "source": [
    "The constructor takes care of setting up the object. In this case it receives the owner name, an optional start amount and defines an internal transactions list to keep track of deposits and withdrawals.\n",
    "\n",
    "### Object Representation: \\__str\\__, \\__repr\\__\n",
    "\n",
    "It’s common practice in Python to provide a string representation of your object for the consumer of your class (a bit like API documentation.) There are two ways to do this using dunder methods:\n",
    "\n",
    "1.    \\__repr\\__: The “official” string representation of an object. This is how you would make an object of the class. The goal of \\__repr\\__ is to be unambiguous.\n",
    "\n",
    "2.   \\__str\\__: The “informal” or nicely printable string representation of an object. This is for the enduser.\n"
   ]
  },
  {
   "cell_type": "code",
   "execution_count": null,
   "metadata": {},
   "outputs": [],
   "source": [
    "class Account:\n",
    "    \"\"\"A simple account class\"\"\"\n",
    "    \n",
    "    def __init__(self, owner, amount=0):\n",
    "        \"\"\"\n",
    "        This is constructor that lets us create objects from this class\n",
    "        \"\"\"\n",
    "        self.owner = owner\n",
    "        self.amount = amount\n",
    "        self._transactions = []\n",
    "    \n",
    "    def __repr__(self):\n",
    "        return 'Account({!r}, {!r})'.format(self.owner, self.amount)\n",
    "    \n",
    "    def __str__(self):\n",
    "        return 'Account of {} with starting amount: {}'.format(self.owner, self.amount)"
   ]
  },
  {
   "cell_type": "markdown",
   "metadata": {},
   "source": [
    "If you don’t want to hardcode \"Account\" as the name for the class you can also use self.\\__class\\__.\\__name\\__ to access it programmatically.\n",
    "\n",
    "If you wanted to implement just one of these to-string methods on a Python class, make sure it’s \\__repr\\__. https://dbader.org/blog/python-repr-vs-str"
   ]
  },
  {
   "cell_type": "code",
   "execution_count": null,
   "metadata": {},
   "outputs": [],
   "source": [
    "acc = Account('Navjot',100)\n",
    "str(acc)"
   ]
  },
  {
   "cell_type": "code",
   "execution_count": null,
   "metadata": {
    "scrolled": true
   },
   "outputs": [],
   "source": [
    "print(acc)"
   ]
  },
  {
   "cell_type": "code",
   "execution_count": null,
   "metadata": {
    "scrolled": true
   },
   "outputs": [],
   "source": [
    "repr(acc)"
   ]
  },
  {
   "cell_type": "markdown",
   "metadata": {},
   "source": [
    "### Iteration: \\__len\\__, \\__getitem\\__, \\__reversed\\__\n",
    "\n",
    "In order to iterate over our account object I need to add some transactions. So first, I’ll define a simple method to add transactions. I’ll keep it simple because this is just setup code to explain dunder methods, and not a production-ready accounting system:\n",
    "\n",
    "\\@property https://pybit.es/property-decorator.html\n",
    "\n",
    "In object-oriented programming, a property is a special sort of object attribute. It’s almost a cross between a method and an attribute. The idea is that you can, when designing the class, create \"attributes\" whose reading, writing, and so on can be managed by special methods. In Python, you do this with a decorator named property."
   ]
  },
  {
   "cell_type": "code",
   "execution_count": null,
   "metadata": {},
   "outputs": [],
   "source": [
    "class Account:\n",
    "    \"\"\"A simple account class\"\"\"\n",
    "    \n",
    "    def __init__(self, owner, amount=0):\n",
    "        \"\"\"\n",
    "        This is constructor that lets us create objects from this class\n",
    "        \"\"\"\n",
    "        self.owner = owner\n",
    "        self.amount = amount\n",
    "        self._transactions = []\n",
    "    \n",
    "    def __repr__(self):\n",
    "        return 'Account({!r}, {!r})'.format(self.owner, self.amount)\n",
    "    \n",
    "    def __str__(self):\n",
    "        return 'Account of {} with starting amount: {}'.format(self.owner, self.amount)\n",
    "    \n",
    "    def add_transaction(self, amount):\n",
    "        if not isinstance(amount, int):\n",
    "            raise ValueError('Please use int for amount')\n",
    "        self._transactions.append(amount)\n",
    "    \n",
    "    @property\n",
    "    def balance(self):\n",
    "        return self.amount + sum(self._transactions)\n"
   ]
  },
  {
   "cell_type": "code",
   "execution_count": null,
   "metadata": {},
   "outputs": [],
   "source": [
    "acc = Account('Navjot', 100)\n",
    "acc.add_transaction(20)\n",
    "acc.add_transaction(-10)\n",
    "acc.add_transaction(50)\n",
    "acc.add_transaction(-20)\n",
    "acc.add_transaction(30)\n",
    "\n",
    "acc.balance"
   ]
  },
  {
   "cell_type": "markdown",
   "metadata": {},
   "source": [
    "Now I have some data and I want to know:\n",
    "\n",
    "-    How many transactions were there?\n",
    "\n",
    "- Index the account object to get transaction number …\n",
    "\n",
    "-   Loop over the transactions\n",
    "\n",
    "With the class definition I have this is currently not possible. All of the following statements raise TypeError exceptions:"
   ]
  },
  {
   "cell_type": "code",
   "execution_count": null,
   "metadata": {},
   "outputs": [],
   "source": [
    "len(acc)"
   ]
  },
  {
   "cell_type": "code",
   "execution_count": null,
   "metadata": {},
   "outputs": [],
   "source": [
    "for t in acc:\n",
    "    print(t)"
   ]
  },
  {
   "cell_type": "code",
   "execution_count": null,
   "metadata": {
    "scrolled": true
   },
   "outputs": [],
   "source": [
    "acc[1]"
   ]
  },
  {
   "cell_type": "markdown",
   "metadata": {},
   "source": [
    "Dunder methods to the rescue! It only takes a little bit of code to make the class iterable:"
   ]
  },
  {
   "cell_type": "code",
   "execution_count": null,
   "metadata": {},
   "outputs": [],
   "source": [
    "class Account:\n",
    "    \"\"\"A simple account class\"\"\"\n",
    "    \n",
    "    def __init__(self, owner, amount=0):\n",
    "        \"\"\"\n",
    "        This is constructor that lets us create objects from this class\n",
    "        \"\"\"\n",
    "        self.owner = owner\n",
    "        self.amount = amount\n",
    "        self._transactions = []\n",
    "    \n",
    "    def __repr__(self):\n",
    "        return 'Account({!r}, {!r})'.format(self.owner, self.amount)\n",
    "    \n",
    "    def __str__(self):\n",
    "        return 'Account of {} with starting amount: {}'.format(self.owner, self.amount)\n",
    "    \n",
    "    def add_transaction(self, amount):\n",
    "        if not isinstance(amount, int):\n",
    "            raise ValueError('Please use int for amount')\n",
    "        self._transactions.append(amount)\n",
    "    \n",
    "    @property\n",
    "    def balance(self):\n",
    "        return self.amount + sum(self._transactions)\n",
    "    \n",
    "    def __len__(self):\n",
    "        return len(self._transactions)\n",
    "    \n",
    "    def __getitem__(self, position):\n",
    "        return self._transactions[position]\n",
    "    \n",
    "    def __reversed__(self):\n",
    "        return self[::-1]"
   ]
  },
  {
   "cell_type": "code",
   "execution_count": null,
   "metadata": {},
   "outputs": [],
   "source": [
    "acc = Account('Navjot', 100)\n",
    "acc.add_transaction(20)\n",
    "acc.add_transaction(-10)\n",
    "acc.add_transaction(50)\n",
    "acc.add_transaction(-20)\n",
    "acc.add_transaction(30)\n",
    "\n",
    "acc.balance"
   ]
  },
  {
   "cell_type": "code",
   "execution_count": null,
   "metadata": {
    "scrolled": true
   },
   "outputs": [],
   "source": [
    "len(acc)"
   ]
  },
  {
   "cell_type": "code",
   "execution_count": null,
   "metadata": {
    "scrolled": true
   },
   "outputs": [],
   "source": [
    "for t in acc:\n",
    "    print(t)"
   ]
  },
  {
   "cell_type": "code",
   "execution_count": null,
   "metadata": {},
   "outputs": [],
   "source": [
    "acc[1]"
   ]
  },
  {
   "cell_type": "code",
   "execution_count": null,
   "metadata": {},
   "outputs": [],
   "source": [
    "list(reversed(acc))"
   ]
  },
  {
   "cell_type": "markdown",
   "metadata": {},
   "source": [
    "### Operator Overloading for Comparing Accounts: \\__eq\\__, \\__lt\\__"
   ]
  },
  {
   "cell_type": "code",
   "execution_count": null,
   "metadata": {},
   "outputs": [],
   "source": [
    "2 > 1"
   ]
  },
  {
   "cell_type": "markdown",
   "metadata": {},
   "source": [
    "This feels completely natural, but it’s actually quite amazing what happens behind the scenes here. Why does > work equally well on integers, strings and other objects (as long as they are the same type)? This polymorphic behavior is possible because these objects implement one or more comparison dunder methods."
   ]
  },
  {
   "cell_type": "code",
   "execution_count": null,
   "metadata": {},
   "outputs": [],
   "source": [
    "acc2 = Account('Preety', 500)\n",
    "acc2.add_transaction(20)\n",
    "acc2.add_transaction(40)\n",
    "acc2.balance"
   ]
  },
  {
   "cell_type": "code",
   "execution_count": null,
   "metadata": {
    "scrolled": true
   },
   "outputs": [],
   "source": [
    "acc2 > acc"
   ]
  },
  {
   "cell_type": "code",
   "execution_count": null,
   "metadata": {},
   "outputs": [],
   "source": [
    "from functools import total_ordering\n",
    "\n",
    "@total_ordering\n",
    "class Account:\n",
    "    \"\"\"A simple account class\"\"\"\n",
    "    \n",
    "    def __init__(self, owner, amount=0):\n",
    "        \"\"\"\n",
    "        This is constructor that lets us create objects from this class\n",
    "        \"\"\"\n",
    "        self.owner = owner\n",
    "        self.amount = amount\n",
    "        self._transactions = []\n",
    "    \n",
    "    def __repr__(self):\n",
    "        return 'Account({!r}, {!r})'.format(self.owner, self.amount)\n",
    "    \n",
    "    def __str__(self):\n",
    "        return 'Account of {} with starting amount: {}'.format(self.owner, self.amount)\n",
    "    \n",
    "    def add_transaction(self, amount):\n",
    "        if not isinstance(amount, int):\n",
    "            raise ValueError('Please use int for amount')\n",
    "        self._transactions.append(amount)\n",
    "    \n",
    "    @property\n",
    "    def balance(self):\n",
    "        return self.amount + sum(self._transactions)\n",
    "    \n",
    "    def __len__(self):\n",
    "        return len(self._transactions)\n",
    "    \n",
    "    def __getitem__(self, position):\n",
    "        return self._transactions[position]\n",
    "    \n",
    "    def __reversed__(self):\n",
    "        return self[::-1]\n",
    "    \n",
    "    def __eq__(self, other):\n",
    "        return self.balance == other.balance\n",
    "        \n",
    "    def __lt__(self, other):\n",
    "        return self.balance < other.balance"
   ]
  },
  {
   "cell_type": "code",
   "execution_count": null,
   "metadata": {},
   "outputs": [],
   "source": [
    "acc = Account('Navjot', 100)\n",
    "acc.add_transaction(20)\n",
    "acc.add_transaction(-10)\n",
    "acc.add_transaction(50)\n",
    "acc.add_transaction(-20)\n",
    "acc.add_transaction(30)\n",
    "\n",
    "acc2 = Account('Preety', 500)\n",
    "acc2.add_transaction(20)\n",
    "acc2.add_transaction(40)\n",
    "acc2.balance"
   ]
  },
  {
   "cell_type": "code",
   "execution_count": null,
   "metadata": {},
   "outputs": [],
   "source": [
    "acc2 > acc"
   ]
  },
  {
   "cell_type": "code",
   "execution_count": null,
   "metadata": {},
   "outputs": [],
   "source": [
    "acc2 < acc"
   ]
  },
  {
   "cell_type": "markdown",
   "metadata": {},
   "source": [
    "### Operator Overloading for Merging Accounts: \\__add\\__\n",
    "\n",
    "In Python, everything is an object.https://dbader.org/blog/python-first-class-functions We are completely fine adding two integers or two strings with the + (plus) operator, it behaves in expected ways:"
   ]
  },
  {
   "cell_type": "code",
   "execution_count": null,
   "metadata": {},
   "outputs": [],
   "source": [
    "acc + acc2"
   ]
  },
  {
   "cell_type": "code",
   "execution_count": null,
   "metadata": {},
   "outputs": [],
   "source": [
    "from functools import total_ordering\n",
    "\n",
    "@total_ordering\n",
    "class Account:\n",
    "    \"\"\"A simple account class\"\"\"\n",
    "    \n",
    "    def __init__(self, owner, amount=0):\n",
    "        \"\"\"\n",
    "        This is constructor that lets us create objects from this class\n",
    "        \"\"\"\n",
    "        self.owner = owner\n",
    "        self.amount = amount\n",
    "        self._transactions = []\n",
    "    \n",
    "    def __repr__(self):\n",
    "        return 'Account({!r}, {!r})'.format(self.owner, self.amount)\n",
    "    \n",
    "    def __str__(self):\n",
    "        return 'Account of {} with starting amount: {}'.format(self.owner, self.amount)\n",
    "    \n",
    "    def add_transaction(self, amount):\n",
    "        if not isinstance(amount, int):\n",
    "            raise ValueError('Please use int for amount')\n",
    "        self._transactions.append(amount)\n",
    "    \n",
    "    @property\n",
    "    def balance(self):\n",
    "        return self.amount + sum(self._transactions)\n",
    "    \n",
    "    def __len__(self):\n",
    "        return len(self._transactions)\n",
    "    \n",
    "    def __getitem__(self, position):\n",
    "        return self._transactions[position]\n",
    "    \n",
    "    def __reversed__(self):\n",
    "        return self[::-1]\n",
    "    \n",
    "    def __eq__(self, other):\n",
    "        return self.balance == other.balance\n",
    "        \n",
    "    def __lt__(self, other):\n",
    "        return self.balance < other.balance\n",
    "    \n",
    "    def __add__(self, other):\n",
    "        owner =f'{self.owner}&{other.owner}'\n",
    "        start_amount = self.amount + other.amount\n",
    "        acc = Account(owner, start_amount)\n",
    "        for t in list(self) + list(other):\n",
    "            acc.add_transaction(t)\n",
    "        return acc"
   ]
  },
  {
   "cell_type": "code",
   "execution_count": null,
   "metadata": {},
   "outputs": [],
   "source": [
    "acc = Account('Navjot', 100)\n",
    "acc.add_transaction(20)\n",
    "acc.add_transaction(-10)\n",
    "acc.add_transaction(50)\n",
    "acc.add_transaction(-20)\n",
    "acc.add_transaction(30)\n",
    "\n",
    "acc2 = Account('Preety', 500)\n",
    "acc2.add_transaction(20)\n",
    "acc2.add_transaction(40)\n",
    "\n",
    "\n",
    "acc3 = acc + acc2\n",
    "acc3"
   ]
  },
  {
   "cell_type": "markdown",
   "metadata": {},
   "source": [
    "### Callable Python Objects: \\__call\\__\n",
    "\n",
    "You can make an object callable like a regular function by adding the __call__ dunder method. For our account class we could print a nice report of all the transactions that make up its balance:"
   ]
  },
  {
   "cell_type": "code",
   "execution_count": null,
   "metadata": {},
   "outputs": [],
   "source": [
    "from functools import total_ordering\n",
    "\n",
    "@total_ordering\n",
    "class Account:\n",
    "    \"\"\"A simple account class\"\"\"\n",
    "    \n",
    "    def __init__(self, owner, amount=0):\n",
    "        \"\"\"\n",
    "        This is constructor that lets us create objects from this class\n",
    "        \"\"\"\n",
    "        self.owner = owner\n",
    "        self.amount = amount\n",
    "        self._transactions = []\n",
    "    \n",
    "    def __repr__(self):\n",
    "        return 'Account({!r}, {!r})'.format(self.owner, self.amount)\n",
    "    \n",
    "    def __str__(self):\n",
    "        return 'Account of {} with starting amount: {}'.format(self.owner, self.amount)\n",
    "    \n",
    "    def add_transaction(self, amount):\n",
    "        if not isinstance(amount, int):\n",
    "            raise ValueError('Please use int for amount')\n",
    "        self._transactions.append(amount)\n",
    "    \n",
    "    @property\n",
    "    def balance(self):\n",
    "        return self.amount + sum(self._transactions)\n",
    "    \n",
    "    def __len__(self):\n",
    "        return len(self._transactions)\n",
    "    \n",
    "    def __getitem__(self, position):\n",
    "        return self._transactions[position]\n",
    "    \n",
    "    def __reversed__(self):\n",
    "        return self[::-1]\n",
    "    \n",
    "    def __eq__(self, other):\n",
    "        return self.balance == other.balance\n",
    "        \n",
    "    def __lt__(self, other):\n",
    "        return self.balance < other.balance\n",
    "    \n",
    "    def __add__(self, other):\n",
    "        owner =f'{self.owner}&{other.owner}'\n",
    "        start_amount = self.amount + other.amount\n",
    "        acc = Account(owner, start_amount)\n",
    "        for t in list(self) + list(other):\n",
    "            acc.add_transaction(t)\n",
    "        return acc\n",
    "    \n",
    "    def __call__(self):\n",
    "        print(f'Start Amount: {self.amount}')\n",
    "        print('Transaction: ')\n",
    "        for transaction in self:\n",
    "            print(transaction)\n",
    "        print(f'\\nBalance: {self.balance}')"
   ]
  },
  {
   "cell_type": "code",
   "execution_count": null,
   "metadata": {},
   "outputs": [],
   "source": [
    "acc = Account('Navjot', 100)\n",
    "acc.add_transaction(20)\n",
    "acc.add_transaction(-10)\n",
    "acc.add_transaction(50)\n",
    "acc.add_transaction(-20)\n",
    "acc.add_transaction(30)\n",
    "\n",
    "acc()"
   ]
  },
  {
   "cell_type": "markdown",
   "metadata": {},
   "source": [
    "### Context Manager Support and the With Statement: \\__enter\\__, \\__exit\\__\n",
    "A context manager is a simple “protocol” (or interface) that your object needs to follow so it can be used with the with statement. Basically all you need to do is add \\__enter\\__ and \\__exit\\__ methods to an object if you want it to function as a context manager.\n",
    "https://dbader.org/blog/python-context-managers-and-with-statement\n",
    "\n",
    "Let’s use context manager support to add a rollback mechanism to our Account class. If the balance goes negative upon adding another transaction we rollback to the previous state."
   ]
  },
  {
   "cell_type": "code",
   "execution_count": null,
   "metadata": {},
   "outputs": [],
   "source": [
    "from functools import total_ordering\n",
    "\n",
    "@total_ordering\n",
    "class Account:\n",
    "    \"\"\"A simple account class\"\"\"\n",
    "    \n",
    "    def __init__(self, owner, amount=0):\n",
    "        \"\"\"\n",
    "        This is constructor that lets us create objects from this class\n",
    "        \"\"\"\n",
    "        self.owner = owner\n",
    "        self.amount = amount\n",
    "        self._transactions = []\n",
    "    \n",
    "    def __repr__(self):\n",
    "        return 'Account({!r}, {!r})'.format(self.owner, self.amount)\n",
    "    \n",
    "    def __str__(self):\n",
    "        return 'Account of {} with starting amount: {}'.format(self.owner, self.amount)\n",
    "    \n",
    "    def add_transaction(self, amount):\n",
    "        if not isinstance(amount, int):\n",
    "            raise ValueError('Please use int for amount')\n",
    "        self._transactions.append(amount)\n",
    "    \n",
    "    @property\n",
    "    def balance(self):\n",
    "        return self.amount + sum(self._transactions)\n",
    "    \n",
    "    def __len__(self):\n",
    "        return len(self._transactions)\n",
    "    \n",
    "    def __getitem__(self, position):\n",
    "        return self._transactions[position]\n",
    "    \n",
    "    def __reversed__(self):\n",
    "        return self[::-1]\n",
    "    \n",
    "    def __eq__(self, other):\n",
    "        return self.balance == other.balance\n",
    "        \n",
    "    def __lt__(self, other):\n",
    "        return self.balance < other.balance\n",
    "    \n",
    "    def __add__(self, other):\n",
    "        owner =f'{self.owner}&{other.owner}'\n",
    "        start_amount = self.amount + other.amount\n",
    "        acc = Account(owner, start_amount)\n",
    "        for t in list(self) + list(other):\n",
    "            acc.add_transaction(t)\n",
    "        return acc\n",
    "    \n",
    "    def __call__(self):\n",
    "        print(f'Start Amount: {self.amount}')\n",
    "        print('Transaction: ')\n",
    "        for transaction in self:\n",
    "            print(transaction)\n",
    "        print(f'Balance: {self.balance}')\n",
    "    \n",
    "    def __enter__(self):\n",
    "        print('Enter With: Making backup of transaction for rollback')\n",
    "        self._copy_transactions = list(self._transactions)\n",
    "        return self\n",
    "    \n",
    "    def __exit__(self, exc_type, exc_val, exc_tb):\n",
    "        print('Exit with:', end='')\n",
    "        if exc_type:\n",
    "            self._transactions = self._copy_transactions\n",
    "            print('Rolling back to previous transactions')\n",
    "            print(f'Transaction resulted in {exc_type.__name__} ({exc_val})')\n",
    "        else:\n",
    "            print('transaction OK')\n",
    "    \n",
    "    "
   ]
  },
  {
   "cell_type": "code",
   "execution_count": null,
   "metadata": {},
   "outputs": [],
   "source": [
    "def validate_transaction(acc, amount_to_add):\n",
    "        with acc as a:\n",
    "            print(f'Adding {amount_to_add} to account')\n",
    "            a.add_transaction(amount_to_add)\n",
    "            print(f'New balance would be: {a.balance}')\n",
    "            if a.balance < 0:\n",
    "                raise ValueError('Sorry cannot go in debt')"
   ]
  },
  {
   "cell_type": "code",
   "execution_count": null,
   "metadata": {},
   "outputs": [],
   "source": []
  },
  {
   "cell_type": "code",
   "execution_count": null,
   "metadata": {},
   "outputs": [],
   "source": [
    "acc4 = Account('Sandhu', 200)\n",
    "print(f'\\nBalance start: {acc4.balance}')\n",
    "validate_transaction(acc4, 20)\n",
    "print(f'\\nBalance end: {acc4.balance}')"
   ]
  }
 ],
 "metadata": {
  "kernelspec": {
   "display_name": "Python 3",
   "language": "python",
   "name": "python3"
  },
  "language_info": {
   "codemirror_mode": {
    "name": "ipython",
    "version": 3
   },
   "file_extension": ".py",
   "mimetype": "text/x-python",
   "name": "python",
   "nbconvert_exporter": "python",
   "pygments_lexer": "ipython3",
   "version": "3.8.5"
  }
 },
 "nbformat": 4,
 "nbformat_minor": 4
}
